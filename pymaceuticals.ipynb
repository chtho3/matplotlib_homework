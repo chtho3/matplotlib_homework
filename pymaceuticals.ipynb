{
 "cells": [
  {
   "cell_type": "markdown",
   "metadata": {},
   "source": [
    "## Write at least three observations or inferences that can be made from the data. ####"
   ]
  },
  {
   "cell_type": "raw",
   "metadata": {},
   "source": [
    "1. Capomulin and Ramicane significantly outperformed the other drug regimens studied (box plot). Further scrutiny is needed to determine whether this effect was biased in any way by the increase in sample population for these two regimens as opposed to the others (bar chart).\n",
    "\n",
    "2. Based on the Capomulin data, the average tumor size was shown to generally increase with the weight of the mouse studied (r^2 = 0.7) (scatter plot).\n",
    "\n",
    "3. Tumor volume decreased steadily in Mouse s185 over time with adminiatration of Capomulin. At no point did the tumor volume show an instance of plateau or increase during the study (line plot)."
   ]
  },
  {
   "cell_type": "code",
   "execution_count": 2,
   "metadata": {},
   "outputs": [
    {
     "data": {
      "text/html": [
       "<div>\n",
       "<style scoped>\n",
       "    .dataframe tbody tr th:only-of-type {\n",
       "        vertical-align: middle;\n",
       "    }\n",
       "\n",
       "    .dataframe tbody tr th {\n",
       "        vertical-align: top;\n",
       "    }\n",
       "\n",
       "    .dataframe thead th {\n",
       "        text-align: right;\n",
       "    }\n",
       "</style>\n",
       "<table border=\"1\" class=\"dataframe\">\n",
       "  <thead>\n",
       "    <tr style=\"text-align: right;\">\n",
       "      <th></th>\n",
       "      <th>Mouse ID</th>\n",
       "      <th>Drug Regimen</th>\n",
       "      <th>Sex</th>\n",
       "      <th>Age_months</th>\n",
       "      <th>Weight (g)</th>\n",
       "    </tr>\n",
       "  </thead>\n",
       "  <tbody>\n",
       "    <tr>\n",
       "      <td>0</td>\n",
       "      <td>k403</td>\n",
       "      <td>Ramicane</td>\n",
       "      <td>Male</td>\n",
       "      <td>21</td>\n",
       "      <td>16</td>\n",
       "    </tr>\n",
       "    <tr>\n",
       "      <td>1</td>\n",
       "      <td>s185</td>\n",
       "      <td>Capomulin</td>\n",
       "      <td>Female</td>\n",
       "      <td>3</td>\n",
       "      <td>17</td>\n",
       "    </tr>\n",
       "    <tr>\n",
       "      <td>2</td>\n",
       "      <td>x401</td>\n",
       "      <td>Capomulin</td>\n",
       "      <td>Female</td>\n",
       "      <td>16</td>\n",
       "      <td>15</td>\n",
       "    </tr>\n",
       "    <tr>\n",
       "      <td>3</td>\n",
       "      <td>m601</td>\n",
       "      <td>Capomulin</td>\n",
       "      <td>Male</td>\n",
       "      <td>22</td>\n",
       "      <td>17</td>\n",
       "    </tr>\n",
       "    <tr>\n",
       "      <td>4</td>\n",
       "      <td>g791</td>\n",
       "      <td>Ramicane</td>\n",
       "      <td>Male</td>\n",
       "      <td>11</td>\n",
       "      <td>16</td>\n",
       "    </tr>\n",
       "  </tbody>\n",
       "</table>\n",
       "</div>"
      ],
      "text/plain": [
       "  Mouse ID Drug Regimen     Sex  Age_months  Weight (g)\n",
       "0     k403     Ramicane    Male          21          16\n",
       "1     s185    Capomulin  Female           3          17\n",
       "2     x401    Capomulin  Female          16          15\n",
       "3     m601    Capomulin    Male          22          17\n",
       "4     g791     Ramicane    Male          11          16"
      ]
     },
     "execution_count": 2,
     "metadata": {},
     "output_type": "execute_result"
    }
   ],
   "source": [
    "# From Starter file\n",
    "\n",
    "# Dependencies and Setup\n",
    "import matplotlib.pyplot as plt\n",
    "import pandas as pd\n",
    "import scipy.stats as st\n",
    "\n",
    "# Study data files\n",
    "mouse_metadata = \"Resources/Mouse_metadata.csv\"\n",
    "study_results = \"Resources/Study_results.csv\"\n",
    "\n",
    "# Read the mouse data and the study results\n",
    "mouse_metadata = pd.read_csv(mouse_metadata)\n",
    "study_results = pd.read_csv(study_results)\n",
    "\n",
    "# Combine the data into a single dataset\n",
    "mouse_metadata.head()"
   ]
  },
  {
   "cell_type": "code",
   "execution_count": 3,
   "metadata": {},
   "outputs": [
    {
     "data": {
      "text/html": [
       "<div>\n",
       "<style scoped>\n",
       "    .dataframe tbody tr th:only-of-type {\n",
       "        vertical-align: middle;\n",
       "    }\n",
       "\n",
       "    .dataframe tbody tr th {\n",
       "        vertical-align: top;\n",
       "    }\n",
       "\n",
       "    .dataframe thead th {\n",
       "        text-align: right;\n",
       "    }\n",
       "</style>\n",
       "<table border=\"1\" class=\"dataframe\">\n",
       "  <thead>\n",
       "    <tr style=\"text-align: right;\">\n",
       "      <th></th>\n",
       "      <th>Mouse ID</th>\n",
       "      <th>Timepoint</th>\n",
       "      <th>Tumor Volume (mm3)</th>\n",
       "      <th>Metastatic Sites</th>\n",
       "    </tr>\n",
       "  </thead>\n",
       "  <tbody>\n",
       "    <tr>\n",
       "      <td>0</td>\n",
       "      <td>b128</td>\n",
       "      <td>0</td>\n",
       "      <td>45.0</td>\n",
       "      <td>0</td>\n",
       "    </tr>\n",
       "    <tr>\n",
       "      <td>1</td>\n",
       "      <td>f932</td>\n",
       "      <td>0</td>\n",
       "      <td>45.0</td>\n",
       "      <td>0</td>\n",
       "    </tr>\n",
       "    <tr>\n",
       "      <td>2</td>\n",
       "      <td>g107</td>\n",
       "      <td>0</td>\n",
       "      <td>45.0</td>\n",
       "      <td>0</td>\n",
       "    </tr>\n",
       "    <tr>\n",
       "      <td>3</td>\n",
       "      <td>a457</td>\n",
       "      <td>0</td>\n",
       "      <td>45.0</td>\n",
       "      <td>0</td>\n",
       "    </tr>\n",
       "    <tr>\n",
       "      <td>4</td>\n",
       "      <td>c819</td>\n",
       "      <td>0</td>\n",
       "      <td>45.0</td>\n",
       "      <td>0</td>\n",
       "    </tr>\n",
       "  </tbody>\n",
       "</table>\n",
       "</div>"
      ],
      "text/plain": [
       "  Mouse ID  Timepoint  Tumor Volume (mm3)  Metastatic Sites\n",
       "0     b128          0                45.0                 0\n",
       "1     f932          0                45.0                 0\n",
       "2     g107          0                45.0                 0\n",
       "3     a457          0                45.0                 0\n",
       "4     c819          0                45.0                 0"
      ]
     },
     "execution_count": 3,
     "metadata": {},
     "output_type": "execute_result"
    }
   ],
   "source": [
    "study_results.head()"
   ]
  },
  {
   "cell_type": "code",
   "execution_count": 4,
   "metadata": {},
   "outputs": [
    {
     "data": {
      "text/html": [
       "<div>\n",
       "<style scoped>\n",
       "    .dataframe tbody tr th:only-of-type {\n",
       "        vertical-align: middle;\n",
       "    }\n",
       "\n",
       "    .dataframe tbody tr th {\n",
       "        vertical-align: top;\n",
       "    }\n",
       "\n",
       "    .dataframe thead th {\n",
       "        text-align: right;\n",
       "    }\n",
       "</style>\n",
       "<table border=\"1\" class=\"dataframe\">\n",
       "  <thead>\n",
       "    <tr style=\"text-align: right;\">\n",
       "      <th></th>\n",
       "      <th>Mouse ID</th>\n",
       "      <th>Drug Regimen</th>\n",
       "      <th>Sex</th>\n",
       "      <th>Age_months</th>\n",
       "      <th>Weight (g)</th>\n",
       "      <th>Timepoint</th>\n",
       "      <th>Tumor Volume (mm3)</th>\n",
       "      <th>Metastatic Sites</th>\n",
       "    </tr>\n",
       "  </thead>\n",
       "  <tbody>\n",
       "    <tr>\n",
       "      <td>0</td>\n",
       "      <td>k403</td>\n",
       "      <td>Ramicane</td>\n",
       "      <td>Male</td>\n",
       "      <td>21</td>\n",
       "      <td>16</td>\n",
       "      <td>0</td>\n",
       "      <td>45.000000</td>\n",
       "      <td>0</td>\n",
       "    </tr>\n",
       "    <tr>\n",
       "      <td>1</td>\n",
       "      <td>k403</td>\n",
       "      <td>Ramicane</td>\n",
       "      <td>Male</td>\n",
       "      <td>21</td>\n",
       "      <td>16</td>\n",
       "      <td>5</td>\n",
       "      <td>38.825898</td>\n",
       "      <td>0</td>\n",
       "    </tr>\n",
       "    <tr>\n",
       "      <td>2</td>\n",
       "      <td>k403</td>\n",
       "      <td>Ramicane</td>\n",
       "      <td>Male</td>\n",
       "      <td>21</td>\n",
       "      <td>16</td>\n",
       "      <td>10</td>\n",
       "      <td>35.014271</td>\n",
       "      <td>1</td>\n",
       "    </tr>\n",
       "    <tr>\n",
       "      <td>3</td>\n",
       "      <td>k403</td>\n",
       "      <td>Ramicane</td>\n",
       "      <td>Male</td>\n",
       "      <td>21</td>\n",
       "      <td>16</td>\n",
       "      <td>15</td>\n",
       "      <td>34.223992</td>\n",
       "      <td>1</td>\n",
       "    </tr>\n",
       "    <tr>\n",
       "      <td>4</td>\n",
       "      <td>k403</td>\n",
       "      <td>Ramicane</td>\n",
       "      <td>Male</td>\n",
       "      <td>21</td>\n",
       "      <td>16</td>\n",
       "      <td>20</td>\n",
       "      <td>32.997729</td>\n",
       "      <td>1</td>\n",
       "    </tr>\n",
       "    <tr>\n",
       "      <td>5</td>\n",
       "      <td>k403</td>\n",
       "      <td>Ramicane</td>\n",
       "      <td>Male</td>\n",
       "      <td>21</td>\n",
       "      <td>16</td>\n",
       "      <td>25</td>\n",
       "      <td>33.464577</td>\n",
       "      <td>1</td>\n",
       "    </tr>\n",
       "    <tr>\n",
       "      <td>6</td>\n",
       "      <td>k403</td>\n",
       "      <td>Ramicane</td>\n",
       "      <td>Male</td>\n",
       "      <td>21</td>\n",
       "      <td>16</td>\n",
       "      <td>30</td>\n",
       "      <td>31.099498</td>\n",
       "      <td>1</td>\n",
       "    </tr>\n",
       "    <tr>\n",
       "      <td>7</td>\n",
       "      <td>k403</td>\n",
       "      <td>Ramicane</td>\n",
       "      <td>Male</td>\n",
       "      <td>21</td>\n",
       "      <td>16</td>\n",
       "      <td>35</td>\n",
       "      <td>26.546993</td>\n",
       "      <td>1</td>\n",
       "    </tr>\n",
       "    <tr>\n",
       "      <td>8</td>\n",
       "      <td>k403</td>\n",
       "      <td>Ramicane</td>\n",
       "      <td>Male</td>\n",
       "      <td>21</td>\n",
       "      <td>16</td>\n",
       "      <td>40</td>\n",
       "      <td>24.365505</td>\n",
       "      <td>1</td>\n",
       "    </tr>\n",
       "    <tr>\n",
       "      <td>9</td>\n",
       "      <td>k403</td>\n",
       "      <td>Ramicane</td>\n",
       "      <td>Male</td>\n",
       "      <td>21</td>\n",
       "      <td>16</td>\n",
       "      <td>45</td>\n",
       "      <td>22.050126</td>\n",
       "      <td>1</td>\n",
       "    </tr>\n",
       "    <tr>\n",
       "      <td>10</td>\n",
       "      <td>s185</td>\n",
       "      <td>Capomulin</td>\n",
       "      <td>Female</td>\n",
       "      <td>3</td>\n",
       "      <td>17</td>\n",
       "      <td>0</td>\n",
       "      <td>45.000000</td>\n",
       "      <td>0</td>\n",
       "    </tr>\n",
       "  </tbody>\n",
       "</table>\n",
       "</div>"
      ],
      "text/plain": [
       "   Mouse ID Drug Regimen     Sex  Age_months  Weight (g)  Timepoint  \\\n",
       "0      k403     Ramicane    Male          21          16          0   \n",
       "1      k403     Ramicane    Male          21          16          5   \n",
       "2      k403     Ramicane    Male          21          16         10   \n",
       "3      k403     Ramicane    Male          21          16         15   \n",
       "4      k403     Ramicane    Male          21          16         20   \n",
       "5      k403     Ramicane    Male          21          16         25   \n",
       "6      k403     Ramicane    Male          21          16         30   \n",
       "7      k403     Ramicane    Male          21          16         35   \n",
       "8      k403     Ramicane    Male          21          16         40   \n",
       "9      k403     Ramicane    Male          21          16         45   \n",
       "10     s185    Capomulin  Female           3          17          0   \n",
       "\n",
       "    Tumor Volume (mm3)  Metastatic Sites  \n",
       "0            45.000000                 0  \n",
       "1            38.825898                 0  \n",
       "2            35.014271                 1  \n",
       "3            34.223992                 1  \n",
       "4            32.997729                 1  \n",
       "5            33.464577                 1  \n",
       "6            31.099498                 1  \n",
       "7            26.546993                 1  \n",
       "8            24.365505                 1  \n",
       "9            22.050126                 1  \n",
       "10           45.000000                 0  "
      ]
     },
     "execution_count": 4,
     "metadata": {},
     "output_type": "execute_result"
    }
   ],
   "source": [
    "merge_data = mouse_metadata.merge(study_results, on=\"Mouse ID\")\n",
    "merge_data.head(11)"
   ]
  },
  {
   "cell_type": "code",
   "execution_count": 5,
   "metadata": {},
   "outputs": [
    {
     "data": {
      "text/html": [
       "<div>\n",
       "<style scoped>\n",
       "    .dataframe tbody tr th:only-of-type {\n",
       "        vertical-align: middle;\n",
       "    }\n",
       "\n",
       "    .dataframe tbody tr th {\n",
       "        vertical-align: top;\n",
       "    }\n",
       "\n",
       "    .dataframe thead th {\n",
       "        text-align: right;\n",
       "    }\n",
       "</style>\n",
       "<table border=\"1\" class=\"dataframe\">\n",
       "  <thead>\n",
       "    <tr style=\"text-align: right;\">\n",
       "      <th></th>\n",
       "      <th>Tumor Volume (mm3) Mean</th>\n",
       "      <th>Tumor Volume (mm3) Median</th>\n",
       "      <th>Tumor Volume (mm3)</th>\n",
       "      <th>Tumor Volume (mm3) Standard Deviation</th>\n",
       "      <th>Tumor Volume (mm3) SEM</th>\n",
       "    </tr>\n",
       "    <tr>\n",
       "      <th>Drug Regimen</th>\n",
       "      <th></th>\n",
       "      <th></th>\n",
       "      <th></th>\n",
       "      <th></th>\n",
       "      <th></th>\n",
       "    </tr>\n",
       "  </thead>\n",
       "  <tbody>\n",
       "    <tr>\n",
       "      <td>Capomulin</td>\n",
       "      <td>40.675741</td>\n",
       "      <td>41.557809</td>\n",
       "      <td>24.947764</td>\n",
       "      <td>4.994774</td>\n",
       "      <td>0.329346</td>\n",
       "    </tr>\n",
       "    <tr>\n",
       "      <td>Ceftamin</td>\n",
       "      <td>52.591172</td>\n",
       "      <td>51.776157</td>\n",
       "      <td>39.290177</td>\n",
       "      <td>6.268188</td>\n",
       "      <td>0.469821</td>\n",
       "    </tr>\n",
       "    <tr>\n",
       "      <td>Infubinol</td>\n",
       "      <td>52.884795</td>\n",
       "      <td>51.820584</td>\n",
       "      <td>43.128684</td>\n",
       "      <td>6.567243</td>\n",
       "      <td>0.492236</td>\n",
       "    </tr>\n",
       "    <tr>\n",
       "      <td>Ketapril</td>\n",
       "      <td>55.235638</td>\n",
       "      <td>53.698743</td>\n",
       "      <td>68.553577</td>\n",
       "      <td>8.279709</td>\n",
       "      <td>0.603860</td>\n",
       "    </tr>\n",
       "    <tr>\n",
       "      <td>Naftisol</td>\n",
       "      <td>54.331565</td>\n",
       "      <td>52.509285</td>\n",
       "      <td>66.173479</td>\n",
       "      <td>8.134708</td>\n",
       "      <td>0.596466</td>\n",
       "    </tr>\n",
       "    <tr>\n",
       "      <td>Placebo</td>\n",
       "      <td>54.033581</td>\n",
       "      <td>52.288934</td>\n",
       "      <td>61.168083</td>\n",
       "      <td>7.821003</td>\n",
       "      <td>0.581331</td>\n",
       "    </tr>\n",
       "    <tr>\n",
       "      <td>Propriva</td>\n",
       "      <td>52.322552</td>\n",
       "      <td>50.854632</td>\n",
       "      <td>42.351070</td>\n",
       "      <td>6.507770</td>\n",
       "      <td>0.512884</td>\n",
       "    </tr>\n",
       "    <tr>\n",
       "      <td>Ramicane</td>\n",
       "      <td>40.216745</td>\n",
       "      <td>40.673236</td>\n",
       "      <td>23.486704</td>\n",
       "      <td>4.846308</td>\n",
       "      <td>0.320955</td>\n",
       "    </tr>\n",
       "    <tr>\n",
       "      <td>Stelasyn</td>\n",
       "      <td>54.233149</td>\n",
       "      <td>52.431737</td>\n",
       "      <td>59.450562</td>\n",
       "      <td>7.710419</td>\n",
       "      <td>0.573111</td>\n",
       "    </tr>\n",
       "    <tr>\n",
       "      <td>Zoniferol</td>\n",
       "      <td>53.236507</td>\n",
       "      <td>51.818479</td>\n",
       "      <td>48.533355</td>\n",
       "      <td>6.966589</td>\n",
       "      <td>0.516398</td>\n",
       "    </tr>\n",
       "  </tbody>\n",
       "</table>\n",
       "</div>"
      ],
      "text/plain": [
       "              Tumor Volume (mm3) Mean  Tumor Volume (mm3) Median  \\\n",
       "Drug Regimen                                                       \n",
       "Capomulin                   40.675741                  41.557809   \n",
       "Ceftamin                    52.591172                  51.776157   \n",
       "Infubinol                   52.884795                  51.820584   \n",
       "Ketapril                    55.235638                  53.698743   \n",
       "Naftisol                    54.331565                  52.509285   \n",
       "Placebo                     54.033581                  52.288934   \n",
       "Propriva                    52.322552                  50.854632   \n",
       "Ramicane                    40.216745                  40.673236   \n",
       "Stelasyn                    54.233149                  52.431737   \n",
       "Zoniferol                   53.236507                  51.818479   \n",
       "\n",
       "              Tumor Volume (mm3)  Tumor Volume (mm3) Standard Deviation  \\\n",
       "Drug Regimen                                                              \n",
       "Capomulin              24.947764                               4.994774   \n",
       "Ceftamin               39.290177                               6.268188   \n",
       "Infubinol              43.128684                               6.567243   \n",
       "Ketapril               68.553577                               8.279709   \n",
       "Naftisol               66.173479                               8.134708   \n",
       "Placebo                61.168083                               7.821003   \n",
       "Propriva               42.351070                               6.507770   \n",
       "Ramicane               23.486704                               4.846308   \n",
       "Stelasyn               59.450562                               7.710419   \n",
       "Zoniferol              48.533355                               6.966589   \n",
       "\n",
       "              Tumor Volume (mm3) SEM  \n",
       "Drug Regimen                          \n",
       "Capomulin                   0.329346  \n",
       "Ceftamin                    0.469821  \n",
       "Infubinol                   0.492236  \n",
       "Ketapril                    0.603860  \n",
       "Naftisol                    0.596466  \n",
       "Placebo                     0.581331  \n",
       "Propriva                    0.512884  \n",
       "Ramicane                    0.320955  \n",
       "Stelasyn                    0.573111  \n",
       "Zoniferol                   0.516398  "
      ]
     },
     "execution_count": 5,
     "metadata": {},
     "output_type": "execute_result"
    }
   ],
   "source": [
    "# Generate a summary statistics table of mean, median, variance, standard deviation, and SEM of the tumor volume \n",
    "# for each regimen\n",
    "merge_mean = merge_data.groupby('Drug Regimen').mean()\n",
    "merge_mean['Tumor Volume (mm3)']\n",
    "merge_median = merge_data.groupby('Drug Regimen').median()\n",
    "merge_median['Tumor Volume (mm3)']\n",
    "merge_variance = merge_data.groupby('Drug Regimen').var()\n",
    "merge_variance['Tumor Volume (mm3)']\n",
    "merge_stdev = merge_data.groupby('Drug Regimen').std()\n",
    "merge_stdev['Tumor Volume (mm3)']\n",
    "merge_sem = merge_data.groupby('Drug Regimen').sem()\n",
    "merge_sem['Tumor Volume (mm3)']\n",
    "\n",
    "summary_stats = pd.DataFrame(merge_mean['Tumor Volume (mm3)'])\n",
    "summary_stats = summary_stats.join(merge_median['Tumor Volume (mm3)'], lsuffix = \" Mean\", rsuffix=\" Median\")\n",
    "summary_stats = summary_stats.join(merge_variance['Tumor Volume (mm3)'], rsuffix = \" Variance\")\n",
    "summary_stats = summary_stats.join(merge_stdev['Tumor Volume (mm3)'], rsuffix = \" Standard Deviation\")\n",
    "summary_stats = summary_stats.join(merge_sem['Tumor Volume (mm3)'], rsuffix = \" SEM\")\n",
    "summary_stats"
   ]
  },
  {
   "cell_type": "code",
   "execution_count": 6,
   "metadata": {
    "scrolled": false
   },
   "outputs": [
    {
     "data": {
      "text/plain": [
       "<matplotlib.axes._subplots.AxesSubplot at 0x24843c5dc48>"
      ]
     },
     "execution_count": 6,
     "metadata": {},
     "output_type": "execute_result"
    },
    {
     "data": {
      "image/png": "[encoded data removed]",
      "text/plain": [
       "<Figure size 432x288 with 1 Axes>"
      ]
     },
     "metadata": {
      "needs_background": "light"
     },
     "output_type": "display_data"
    }
   ],
   "source": [
    "# Generate a bar plot showing number of data points for each treatment regimen using pandas\n",
    "merge_count = merge_data.groupby('Drug Regimen').count()\n",
    "merge_df = pd.DataFrame(merge_count['Mouse ID'])\n",
    "ax = merge_df.plot(kind='bar', title='Count of Points per Drug Regimen')\n",
    "ax.set_ylabel(\"Count of Data Points\")\n",
    "ax"
   ]
  },
  {
   "cell_type": "code",
   "execution_count": 7,
   "metadata": {},
   "outputs": [
    {
     "data": {
      "image/png": "[encoded data removed]",
      "text/plain": [
       "<Figure size 432x288 with 1 Axes>"
      ]
     },
     "metadata": {
      "needs_background": "light"
     },
     "output_type": "display_data"
    }
   ],
   "source": [
    "# Generate a bar plot showing number of data points for each treatment regimen using pyplot\n",
    "x_axis = ['Capomulin', 'Ceftamin', 'Infubinol', 'Ketapril', 'Naftisol', 'Placebo', 'Propriva', 'Ramicane', 'Stelasyn', 'Zoniferol']\n",
    "plt.bar(x_axis, merge_count['Mouse ID'])\n",
    "plt.xticks(rotation=90)\n",
    "plt.title(\"Count of Points per Drug Regimen\")\n",
    "plt.legend(\"Mouse ID\")\n",
    "plt.ylabel(\"Count of Data Points\")\n",
    "plt.xlabel(\"Drug Regimen\")\n",
    "plt.show()"
   ]
  },
  {
   "cell_type": "code",
   "execution_count": 8,
   "metadata": {},
   "outputs": [
    {
     "data": {
      "text/plain": [
       "array([<matplotlib.axes._subplots.AxesSubplot object at 0x0000024845041108>],\n",
       "      dtype=object)"
      ]
     },
     "execution_count": 8,
     "metadata": {},
     "output_type": "execute_result"
    },
    {
     "data": {
      "image/png": "[encoded data removed]",
      "text/plain": [
       "<Figure size 432x288 with 1 Axes>"
      ]
     },
     "metadata": {},
     "output_type": "display_data"
    }
   ],
   "source": [
    "# Generate a pie plot showing the distribution of female versus male mice using pandas\n",
    "gender_count = merge_data.groupby('Sex').count()\n",
    "gender_df = pd.DataFrame(gender_count['Mouse ID'])\n",
    "piex = gender_df.plot(kind='pie', title='Mouse Gender', subplots=True, startangle=90, autopct='%1.1f%%')\n",
    "piex"
   ]
  },
  {
   "cell_type": "code",
   "execution_count": 9,
   "metadata": {},
   "outputs": [
    {
     "data": {
      "image/png": "[encoded data removed]",
      "text/plain": [
       "<Figure size 432x288 with 1 Axes>"
      ]
     },
     "metadata": {},
     "output_type": "display_data"
    }
   ],
   "source": [
    "# Generate a pie plot showing the distribution of female versus male mice using pyplot\n",
    "label = ['Female', 'Male']\n",
    "pypie = plt.pie(gender_df['Mouse ID'], labels = label, startangle=90, autopct='%1.1f%%')\n",
    "plt.title(\"Mouse Gender\")\n",
    "plt.legend()\n",
    "plt.show()"
   ]
  },
  {
   "cell_type": "code",
   "execution_count": 29,
   "metadata": {},
   "outputs": [
    {
     "name": "stdout",
     "output_type": "stream",
     "text": [
      "Empty DataFrame\n",
      "Columns: [Mouse ID, Drug Regimen, Sex, Age_months, Weight (g), Timepoint, Tumor Volume (mm3), Metastatic Sites]\n",
      "Index: []\n",
      "Empty DataFrame\n",
      "Columns: [Mouse ID, Drug Regimen, Sex, Age_months, Weight (g), Timepoint, Tumor Volume (mm3), Metastatic Sites]\n",
      "Index: []\n",
      "Empty DataFrame\n",
      "Columns: [Mouse ID, Drug Regimen, Sex, Age_months, Weight (g), Timepoint, Tumor Volume (mm3), Metastatic Sites]\n",
      "Index: []\n",
      "  Mouse ID Drug Regimen     Sex  Age_months  Weight (g)  Timepoint  \\\n",
      "0     c326    Infubinol  Female          18          25          5   \n",
      "\n",
      "   Tumor Volume (mm3)  Metastatic Sites  \n",
      "0           36.321346                 0  \n"
     ]
    }
   ],
   "source": [
    "# Calculate the final tumor volume of each mouse across four of the most promising treatment regimens. \n",
    "initial_volume = merge_data.loc[merge_data['Timepoint'] == 0]\n",
    "final_volume = merge_data.loc[merge_data['Timepoint'] >= merge_data['Timepoint'].shift(-1)]\n",
    "\n",
    "initial_volume['Tumor Volume (mm3)'].unique() #make sure all the initial volumes are the same\n",
    "\n",
    "group_final = final_volume.groupby('Drug Regimen').mean()\n",
    "final_df = pd.DataFrame(group_final['Tumor Volume (mm3)']).sort_values('Tumor Volume (mm3)')\n",
    "final_df\n",
    "\n",
    "final_rami = final_volume.loc[final_volume['Drug Regimen'] == 'Ramicane'] \n",
    "final_capo = final_volume.loc[final_volume['Drug Regimen'] =='Capomulin']\n",
    "final_ceft = final_volume.loc[final_volume['Drug Regimen'] =='Ceftamin']\n",
    "final_infu = final_volume.loc[final_volume['Drug Regimen'] == 'Infubinol']\n",
    "final_top = final_rami.merge(final_capo, how=\"outer\")\n",
    "final_top = final_top.merge(final_ceft, how=\"outer\")\n",
    "final_top = final_top.merge(final_infu, how=\"outer\")\n",
    "\n",
    "final_tumor = pd.DataFrame(final_top[['Mouse ID', 'Drug Regimen', 'Tumor Volume (mm3)']])\n",
    "final_tumor.head()\n",
    "\n",
    "# Calculate the IQR and quantitatively determine if there are any potential outliers. \n",
    "rami_q25 = st.scoreatpercentile(final_rami['Tumor Volume (mm3)'], per=25)\n",
    "rami_q75 = st.scoreatpercentile(final_rami['Tumor Volume (mm3)'], per=75)\n",
    "rami_iqr = rami_q75 - rami_q25\n",
    "rami_limits = rami_iqr * 1.5\n",
    "rami_upper = rami_limits + rami_q75\n",
    "rami_lower = rami_q25 - rami_limits\n",
    "\n",
    "rami_outliers_list = final_rami.loc[final_rami['Tumor Volume (mm3)'] >= rami_upper]\n",
    "rami_outliers_list = rami_outliers_list.merge(final_rami.loc[final_rami['Tumor Volume (mm3)'] <= rami_lower], how='outer')\n",
    "print(rami_outliers_list)\n",
    "\n",
    "capo_q25 = st.scoreatpercentile(final_capo['Tumor Volume (mm3)'], per=25)\n",
    "capo_q75 = st.scoreatpercentile(final_capo['Tumor Volume (mm3)'], per=75)\n",
    "capo_iqr = capo_q75 - capo_q25\n",
    "capo_limits = capo_iqr * 1.5\n",
    "capo_upper = capo_limits + capo_q75\n",
    "capo_lower = capo_q25 - capo_limits\n",
    "\n",
    "capo_outliers_list = final_capo.loc[final_capo['Tumor Volume (mm3)'] >= capo_upper]\n",
    "capo_outliers_list = capo_outliers_list.merge(final_capo.loc[final_capo['Tumor Volume (mm3)'] <= capo_lower], how=\"outer\")\n",
    "print(capo_outliers_list)\n",
    "\n",
    "ceft_q25 = st.scoreatpercentile(final_ceft['Tumor Volume (mm3)'], per=25)\n",
    "ceft_q75 = st.scoreatpercentile(final_ceft['Tumor Volume (mm3)'], per=75)\n",
    "ceft_iqr = ceft_q75 - ceft_q25\n",
    "ceft_limits = ceft_iqr * 1.5\n",
    "ceft_upper = ceft_limits + ceft_q75\n",
    "ceft_lower = ceft_q25 - ceft_limits\n",
    "\n",
    "ceft_outliers_list = final_ceft.loc[final_ceft['Tumor Volume (mm3)'] >= ceft_upper]\n",
    "ceft_outliers_list = ceft_outliers_list.merge(final_ceft.loc[final_ceft['Tumor Volume (mm3)'] <= ceft_lower], how=\"outer\")\n",
    "print(ceft_outliers_list)\n",
    "\n",
    "infu_q25 = st.scoreatpercentile(final_infu['Tumor Volume (mm3)'], per=25)\n",
    "infu_q75 = st.scoreatpercentile(final_infu['Tumor Volume (mm3)'], per=75)\n",
    "infu_iqr = infu_q75 - infu_q25\n",
    "infu_limits = infu_iqr * 1.5\n",
    "infu_upper = infu_limits + infu_q75\n",
    "infu_lower = infu_q25 - infu_limits\n",
    "\n",
    "infu_outliers_list = final_infu.loc[final_infu['Tumor Volume (mm3)'] >= infu_upper]\n",
    "infu_outliers_list = infu_outliers_list.merge(final_infu.loc[final_infu['Tumor Volume (mm3)'] <= infu_lower], how=\"outer\")\n",
    "print(infu_outliers_list)"
   ]
  },
  {
   "cell_type": "code",
   "execution_count": 30,
   "metadata": {},
   "outputs": [
    {
     "data": {
      "image/png": "[encoded data removed]",
      "text/plain": [
       "<Figure size 432x288 with 1 Axes>"
      ]
     },
     "metadata": {
      "needs_background": "light"
     },
     "output_type": "display_data"
    }
   ],
   "source": [
    "# Generate a box plot of the final tumor volume of each mouse across four regimens of interest\n",
    "data = [final_rami['Tumor Volume (mm3)'], final_capo['Tumor Volume (mm3)'], final_ceft['Tumor Volume (mm3)'], final_infu['Tumor Volume (mm3)']]\n",
    "labels = ['Ramicane','Capomulin', 'Ceftamin', 'Infubinol']\n",
    "plt.ylabel(\"Final Tumor Volume (mm3)\")\n",
    "plt.xlabel(\"Drug Regimen\")\n",
    "plt.title(\"Final Tumors by Drug Regimen\")\n",
    "plt.boxplot(data, labels=labels, showfliers=True)\n",
    "plt.show()"
   ]
  },
  {
   "cell_type": "code",
   "execution_count": 31,
   "metadata": {},
   "outputs": [
    {
     "data": {
      "image/png": "[encoded data removed]",
      "text/plain": [
       "<Figure size 432x288 with 1 Axes>"
      ]
     },
     "metadata": {
      "needs_background": "light"
     },
     "output_type": "display_data"
    }
   ],
   "source": [
    "# Generate a line plot of time point versus tumor volume for a mouse treated with Capomulin\n",
    "final_capo.head() #chose Mouse ID s185\n",
    "s185_data = merge_data.loc[merge_data['Mouse ID'] == \"s185\"]\n",
    "plt.plot(s185_data['Timepoint'], s185_data['Tumor Volume (mm3)'], marker = 'o')\n",
    "plt.xlabel('Timepoint')\n",
    "plt.ylabel('Tumor Volume (mm3)')\n",
    "plt.title('Mouse Id s185')\n",
    "plt.show()"
   ]
  },
  {
   "cell_type": "code",
   "execution_count": 32,
   "metadata": {},
   "outputs": [
    {
     "data": {
      "image/png": "[encoded data removed]",
      "text/plain": [
       "<Figure size 432x288 with 1 Axes>"
      ]
     },
     "metadata": {
      "needs_background": "light"
     },
     "output_type": "display_data"
    }
   ],
   "source": [
    "# Generate a scatter plot of mouse weight versus average tumor volume for the Capomulin regimen\n",
    "final_capo\n",
    "all_capo = merge_data.loc[merge_data['Drug Regimen'] == \"Capomulin\"]\n",
    "all_vol = pd.DataFrame(all_capo[['Mouse ID', 'Tumor Volume (mm3)']])\n",
    "avg_vol = all_vol.groupby('Mouse ID').mean()\n",
    "all_weight_df = pd.DataFrame(all_capo[['Mouse ID', 'Weight (g)']])\n",
    "weight_df = all_weight_df.groupby('Mouse ID').mean()\n",
    "capo_df = avg_vol.merge(weight_df, on=\"Mouse ID\")\n",
    "plt.scatter(capo_df['Tumor Volume (mm3)'], capo_df['Weight (g)'])\n",
    "plt.xlabel(\"Average Tumor Volume (mm3)\")\n",
    "plt.ylabel(\"Weight (g)\")\n",
    "plt.title(\"Capomulin Trend\")\n",
    "plt.show()"
   ]
  },
  {
   "cell_type": "code",
   "execution_count": 33,
   "metadata": {},
   "outputs": [
    {
     "data": {
      "image/png": "[encoded data removed]",
      "text/plain": [
       "<Figure size 432x288 with 1 Axes>"
      ]
     },
     "metadata": {
      "needs_background": "light"
     },
     "output_type": "display_data"
    },
    {
     "name": "stdout",
     "output_type": "stream",
     "text": [
      "R value is 0.8419363424694718; P value is 1.3225722434712642e-07; Standard Error is 0.09924763572688564.\n"
     ]
    }
   ],
   "source": [
    "# Calculate the correlation coefficient and linear regression model for mouse weight and average tumor volume \n",
    "# for the Capomulin regimen\n",
    "slope, intercept, r_value, p_value, std_err = st.linregress(capo_df['Tumor Volume (mm3)'], capo_df['Weight (g)'])\n",
    "\n",
    "line = slope*(capo_df['Tumor Volume (mm3)'])+intercept\n",
    "plt.plot(capo_df['Tumor Volume (mm3)'], line, 'r', label='y={:.2f}x+{:.2f}'.format(slope,intercept))\n",
    "plt.scatter(capo_df['Tumor Volume (mm3)'], capo_df['Weight (g)'])\n",
    "plt.xlabel(\"Average Tumor Volume (mm3)\")\n",
    "plt.ylabel(\"Weight (g)\")\n",
    "plt.title(\"Capomulin Trend\")\n",
    "plt.legend()\n",
    "plt.show()\n",
    "print(f'R value is {r_value}; P value is {p_value}; Standard Error is {std_err}.')"
   ]
  },
  {
   "cell_type": "code",
   "execution_count": null,
   "metadata": {},
   "outputs": [],
   "source": []
  },
  {
   "cell_type": "code",
   "execution_count": null,
   "metadata": {},
   "outputs": [],
   "source": []
  }
 ],
 "metadata": {
  "kernelspec": {
   "display_name": "Python 3",
   "language": "python",
   "name": "python3"
  },
  "language_info": {
   "codemirror_mode": {
    "name": "ipython",
    "version": 3
   },
   "file_extension": ".py",
   "mimetype": "text/x-python",
   "name": "python",
   "nbconvert_exporter": "python",
   "pygments_lexer": "ipython3",
   "version": "3.7.4"
  }
 },
 "nbformat": 4,
 "nbformat_minor": 2
}
